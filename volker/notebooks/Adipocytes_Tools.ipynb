{
 "cells": [
  {
   "cell_type": "markdown",
   "metadata": {},
   "source": [
    "# Adipocytes Tools"
   ]
  },
  {
   "cell_type": "markdown",
   "metadata": {},
   "source": [
    "The **Adipocytes Tools** help to analyze fat cells in images from histological sections such as this one: [0178_x5_3.tif](http://dev.mri.cnrs.fr/attachments/190/0178_x5_3.tif). \n",
    "\n",
    "The source code in git-hub can be found [here](https://github.com/MontpellierRessourcesImagerie/imagej_macros_and_scripts/tree/master/volker/toolsets/adipocyte_tools)."
   ]
  },
  {
   "cell_type": "code",
   "execution_count": 19,
   "metadata": {
    "jupyter": {
     "source_hidden": true
    }
   },
   "outputs": [
    {
     "data": {
      "application/vnd.jupyter.widget-view+json": {
       "model_id": "ad934e5b4c544136bdb00566f31cd388",
       "version_major": 2,
       "version_minor": 0
      },
      "method": "display_data"
     },
     "metadata": {},
     "output_type": "display_data"
    }
   ],
   "source": [
    "image = read_image_from_url('http://dev.mri.cnrs.fr/attachments/190/0178_x5_3.tif')\n",
    "imshow(image, width=400, height=300)"
   ]
  },
  {
   "cell_type": "markdown",
   "metadata": {},
   "source": [
    "# Installation in FIJI/ImageJ\n",
    "\n",
    "To install the tools, drag the link [Adipocyte_Tools.ijm](https://raw.githubusercontent.com/MontpellierRessourcesImagerie/imagej_macros_and_scripts/master/volker/toolsets/adipocyte_tools/Adipocyte_Tools.ijm) to the ImageJ launcher window and save it under _macros/toolsets_ in the ImageJ installation. In order to use the greyscale-watershed method (the **w**-button) you must have the [Watershed Algorithm](http://rsbweb.nih.gov/ij/plugins/watershed.html) installed. \n",
    "\n",
    "Select the \"MRI Adipocytes Tools\" toolset from the ``>>`` button of the ImageJ launcher.\n",
    "\n",
    "![toolset](http://dev.mri.cnrs.fr/attachments/download/1691/toolset.png)"
   ]
  },
  {
   "cell_type": "code",
   "execution_count": 18,
   "metadata": {
    "jupyter": {
     "source_hidden": true
    }
   },
   "outputs": [],
   "source": [
    "from beakerx import *\n",
    "\n",
    "def read_image_from_url(url):\n",
    "    import requests\n",
    "    import tifffile as tiff\n",
    "    import io\n",
    "    resp = requests.get(url)\n",
    "    return tiff.imread(io.BytesIO(resp.content))\n",
    "\n",
    "def imshow(image, width=400, height=300):\n",
    "    import IPython\n",
    "    import ipywidgets as widgets\n",
    "    \n",
    "    displayImage = get_display_image(image, width=400, height=300)\n",
    "\n",
    "    SID_image = widgets.Image(\n",
    "        value=displayImage.data.tobytes(),\n",
    "        format='jpg',\n",
    "        width=400,\n",
    "        height=300,\n",
    "    )\n",
    "    SID_slider = widgets.IntSlider(\n",
    "        min=100,\n",
    "        max=1900,\n",
    "        continuous_update=False,\n",
    "        value = 400,\n",
    "        description = 'width',\n",
    "        layout=Layout(width='400px')\n",
    "    )\n",
    "\n",
    "    SID_link = widgets.jslink((SID_image, 'width'), (SID_slider, 'value'))    \n",
    "\n",
    "    SID_form = EasyForm(\"Image display\")\n",
    "    SID_form.addWidget('FloatSlider', SID_slider)\n",
    "    SID_form.addWidget('ImageDisplay', SID_image)\n",
    "    display(SID_form)\n",
    "    \n",
    "def get_display_image(img, width=800, height=800):\n",
    "    import cv2\n",
    "    import IPython\n",
    "    _,ret = cv2.imencode('.jpg', img) \n",
    "    i = IPython.display.Image(data=ret, width=width, height=height)\n",
    "    return i\n"
   ]
  },
  {
   "cell_type": "code",
   "execution_count": null,
   "metadata": {},
   "outputs": [],
   "source": []
  }
 ],
 "metadata": {
  "kernelspec": {
   "display_name": "Python 3",
   "language": "python",
   "name": "python3"
  },
  "language_info": {
   "codemirror_mode": {
    "name": "ipython",
    "version": 3
   },
   "file_extension": ".py",
   "mimetype": "text/x-python",
   "name": "python",
   "nbconvert_exporter": "python",
   "pygments_lexer": "ipython3",
   "version": "3.7.6"
  }
 },
 "nbformat": 4,
 "nbformat_minor": 4
}
