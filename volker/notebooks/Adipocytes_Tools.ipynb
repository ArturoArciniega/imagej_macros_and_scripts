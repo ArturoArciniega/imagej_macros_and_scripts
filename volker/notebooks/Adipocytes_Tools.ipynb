{
 "cells": [
  {
   "cell_type": "markdown",
   "metadata": {},
   "source": [
    "# Adipocytes Tools"
   ]
  },
  {
   "cell_type": "markdown",
   "metadata": {},
   "source": [
    "The **Adipocytes Tools** help to analyze fat cells in images from histological sections such as this one: [0178_x5_3.tif](http://dev.mri.cnrs.fr/attachments/190/0178_x5_3.tif). "
   ]
  },
  {
   "cell_type": "code",
   "execution_count": 4,
   "metadata": {},
   "outputs": [
    {
     "data": {
      "application/vnd.jupyter.widget-view+json": {
       "model_id": "0b1ef30c319543f08db581b7b8915a19",
       "version_major": 2,
       "version_minor": 0
      },
      "method": "display_data"
     },
     "metadata": {},
     "output_type": "display_data"
    }
   ],
   "source": [
    "image = read_image_from_url('http://dev.mri.cnrs.fr/attachments/190/0178_x5_3.tif')\n",
    "imshow(image, width=500, height=300)"
   ]
  },
  {
   "cell_type": "markdown",
   "metadata": {},
   "source": [
    "The source code in git-hub can be found [here](https://github.com/MontpellierRessourcesImagerie/imagej_macros_and_scripts/tree/master/volker/toolsets/adipocyte_tools)."
   ]
  },
  {
   "cell_type": "code",
   "execution_count": 6,
   "metadata": {
    "jupyter": {
     "source_hidden": true
    }
   },
   "outputs": [
    {
     "name": "stdout",
     "output_type": "stream",
     "text": [
      "Overwriting Adipocyte_Tools.ijm\n"
     ]
    }
   ],
   "source": [
    "%%file Adipocyte_Tools.ijm\n",
    "/**\n",
    "  * MRI Adipocyte Tools\n",
    "  * \n",
    "  * The Adipocytes Tools help to analyze fat cells in images from histological sections.\n",
    "  * \n",
    "  * (c) 2020, INSERM\n",
    "  * written by Volker Baecker at Montpellier Ressources Imagerie, Biocampus Montpellier, INSERM, CNRS, University of Montpellier (www.mri.cnrs.fr)\n",
    "  * \n",
    "  * in collaboration with Matthieu Lacroix and Patricia Cavelier\n",
    "  */\n",
    "\n",
    "var helpURL = \"https://github.com/MontpellierRessourcesImagerie/imagej_macros_and_scripts/wiki/Adipocytes-Tools\"\n",
    "\n",
    "// Preprocessing options\n",
    "var preMinSize = 80;\n",
    "var preMaxSize = 20000;\n",
    "var preThresholdMethod = \"Percentile\";\n",
    "var preNumberOfDilates = 10;\n",
    "var preRemoveScale = true;\n",
    "\n",
    "// Simple segmentation options\n",
    "var simpleMinSize = 40;\n",
    "var simpleMaxSize = 6000;\n",
    "var simpleThresholdMethod = \"Huang\";\n",
    "var simpleUseBinaryWatershed = true;\n",
    "var simpleFindEdges = true;\n",
    "var simpleClearBackground = true;\n",
    "var simpleRemoveScale = true\n",
    "\n",
    "// Watershed segmentation options\n",
    "var waterMinSize = 50;\n",
    "var waterMaxSize = 20000;\n",
    "var waterSigma = 4;\n",
    "var waterFindEdges = true;\n",
    "var waterClearBackground = true;\n",
    "var waterRemoveScale = true;\n",
    "\n",
    "// Large magnification segmentation options\n",
    "var largeMinSize = 10000;\n",
    "var largeMaxSize = \"Infinity\";\n",
    "var largeRemoveScale = true;\n",
    "var largeNumberOfErodes = 3;\n",
    "\n",
    "// Internal variables to set and reset the colors\n",
    "var oldForeground;\n",
    "var oldBackground;\n",
    "\n",
    "// run a function here:\n",
    "\n",
    "exit();\n",
    "// Main functions start\n",
    "\n",
    "// <p> - preprocessing clear background\n",
    "function preProcessImage() {\n",
    "    roiManager(\"reset\");\n",
    "    storeColors();\n",
    "    setWhiteOnBlack();\n",
    "    if (preRemoveScale) run(\"Set Scale...\", \"distance=0 known=0 pixel=1 unit=pixel\");\n",
    "    clearBackground(preMinSize, preMaxSize, preThresholdMethod, preNumberOfDilates, false);\n",
    "    resetColors();\n",
    "    setBatchMode(\"exit and display\");\n",
    "    if (isOpen(\"Results\")) {\n",
    "\t\tselectWindow(\"Results\");\n",
    "\t\trun(\"Close\");\n",
    "    }\n",
    "}\n",
    "\n",
    "function clearBackground(minSize, maxSize, thresholdMethod,  numberOfDilates, keepSelection) {\n",
    "\trun(\"Duplicate...\", \" \");\n",
    "    saveSettings();\n",
    "    setOption(\"black background\", false);\n",
    "    title = getTitle();\n",
    "    run(\"Find Edges\");\n",
    "    run(\"8-bit\");\n",
    "    run(\"Smooth\");\n",
    "    setAutoThreshold(thresholdMethod);\n",
    "    run(\"Analyze Particles...\", \"size=\"+minSize+\"-\"+maxSize+\" circularity=0.00-1.00 show=Masks exclude in_situ\");\n",
    "    run(\"Create Selection\");\n",
    "    run(\"Enlarge...\", \"enlarge=\" + numberOfDilates + \" pixel\");\n",
    "    roiManager(\"Add\");\n",
    "    close();\n",
    "    roiManager(\"select\", 0);\n",
    "    run(\"Clear Outside\");\n",
    "    roiManager(\"reset\");\n",
    "    if (!keepSelection) run(\"Select None\");\n",
    "    restoreSettings();\n",
    "}\n",
    "\n",
    "// <s> - simple adipocytes segmentation\n",
    "function simpleSegmentation() {\n",
    "\trun(\"Duplicate...\", \" \");\n",
    "\trun(\"ROI Manager...\");\n",
    "    roiManager(\"Show All with labels\");\n",
    "    setBatchMode(true);\n",
    "    roiManager(\"reset\");\n",
    "    storeColors();\n",
    "    setWhiteOnBlack();\n",
    "    if (simpleRemoveScale) run(\"Set Scale...\", \"distance=0 known=0 pixel=1 unit=pixel\");\n",
    "    if (simpleUseBinaryWatershed && simpleClearBackground) clearBackground(preMinSize, preMaxSize, preThresholdMethod, preNumberOfDilates, true);\n",
    "    if (simpleRemoveScale) run(\"Set Scale...\", \"distance=0 known=0 pixel=1 unit=pixel\");\n",
    "    if (simpleFindEdges) run(\"Find Edges\");\n",
    "    run(\"8-bit\");\n",
    "    if (simpleFindEdges) {\n",
    "        run(\"Smooth\");\n",
    "        run(\"Invert\");\n",
    "    }\n",
    "    setAutoThreshold(simpleThresholdMethod+ \" dark\");\n",
    "    run(\"Convert to Mask\");\n",
    "    if (simpleUseBinaryWatershed) run(\"Watershed\");\n",
    "    run(\"Clear Results\");\n",
    "    run(\"Analyze Particles...\", \"size=\"+simpleMinSize+\"-\"+simpleMaxSize+\" circularity=0.00-1.00 show=Nothing add exclude\");\n",
    "    close();\n",
    "    if (simpleRemoveScale) run(\"Set Scale...\", \"distance=0 known=0 pixel=1 unit=pixel\");\n",
    "    resetColors();\n",
    "    setBatchMode(\"exit and display\");\n",
    "    if (isOpen(\"Results\")) {\n",
    "\t    selectWindow(\"Results\");\n",
    "\t    run(\"Close\");\n",
    "   }\n",
    "   roiManager(\"Show All with labels\");\n",
    "}\n",
    "\n",
    "// <w> - watershed adipocytes segmentation\n",
    "function watershedAdipocytesSegmentation() {\n",
    "   run(\"Duplicate...\", \" \");\t\n",
    "   run(\"ROI Manager...\");\n",
    "   roiManager(\"Show All with labels\");\n",
    "   setBatchMode(true);\n",
    "   roiManager(\"reset\");\n",
    "   storeColors();\n",
    "   setWhiteOnBlack();\n",
    "   if (waterRemoveScale) run(\"Set Scale...\", \"distance=0 known=0 pixel=1 unit=pixel\");\n",
    "   if (waterClearBackground) clearBackground(preMinSize, preMaxSize, preThresholdMethod, preNumberOfDilates, false);\n",
    "   title = getTitle();\n",
    "   if (waterRemoveScale) run(\"Set Scale...\", \"distance=0 known=0 pixel=1 unit=pixel\");\n",
    "   if (waterFindEdges) run(\"Find Edges\");\n",
    "   else  run(\"Invert\");\n",
    "   run(\"8-bit\");\n",
    "   run(\"Gaussian Blur...\", \"sigma=\" + waterSigma);\n",
    "   run(\"Watershed Algorithm\");\n",
    "   run(\"Invert\");\n",
    "   imageCalculator(\"AND create\", title,\"Watershed\");\n",
    "   titleResult = getTitle();\n",
    "   selectImage(\"Watershed\");\n",
    "   close();\n",
    "   selectImage(titleResult);\n",
    "   setThreshold(1, 255);\n",
    "   run(\"Convert to Mask\");\n",
    "   run(\"Clear Results\");\n",
    "   run(\"Analyze Particles...\", \"size=\"+waterMinSize+\"-\"+waterMaxSize+\" circularity=0.00-1.00 show=Nothing add exclude\");\n",
    "   selectImage(titleResult); \n",
    "   close();\n",
    "   close();\n",
    "   if (waterRemoveScale) run(\"Set Scale...\", \"distance=0 known=0 pixel=1 unit=pixel\");\n",
    "   resetColors();\n",
    "   setBatchMode(\"exit and display\");\n",
    "   if (isOpen(\"Results\")) {\n",
    "        selectWindow(\"Results\");\n",
    "        run(\"Close\");\n",
    "   }\n",
    "   roiManager(\"Show All with labels\");\n",
    "}\n",
    "\n",
    "// <l> - large magnification adipocytes segmentation\n",
    "function largeMagnificationSegmentation() {\n",
    "   run(\"Duplicate...\", \" \");\t\n",
    "   run(\"ROI Manager...\");\n",
    "   roiManager(\"Show All with labels\");\n",
    "   setBatchMode(true);\n",
    "   roiManager(\"reset\");\n",
    "   storeColors();\n",
    "   setWhiteOnBlack();\n",
    "   if (largeRemoveScale) run(\"Set Scale...\", \"distance=0 known=0 pixel=1 unit=pixel\");\n",
    "   title = getTitle();\n",
    "   \n",
    "    run(\"Fit Polynomial\", \"x=2 y=2 mixed=1\");\n",
    "    run(\"8-bit\");\n",
    "    setAutoThreshold(\"Huang dark\");\n",
    "    setOption(\"BlackBackground\", false);\n",
    "    run(\"Convert to Mask\");\n",
    "    for (i=0; i<largeNumberOfErodes; i++) {\n",
    "\t    run(\"Erode\");\n",
    "    }\n",
    "    run(\"Fill Holes\");\n",
    "    run(\"Create Selection\");\n",
    "    run(\"Crop\");\n",
    "    run(\"Select None\");\n",
    "    run(\"Analyze Particles...\", \"size=\"+largeMinSize+\"-\"+largeMaxSize+\" exclude add\");\n",
    "\n",
    "   close();\n",
    "   if (largeRemoveScale) run(\"Set Scale...\", \"distance=0 known=0 pixel=1 unit=pixel\");\n",
    "   resetColors();\n",
    "   setBatchMode(\"exit and display\");\n",
    "   if (isOpen(\"Results\")) {\n",
    "        selectWindow(\"Results\");\n",
    "        run(\"Close\");\n",
    "   }\n",
    "   roiManager(\"Show All with labels\");\n",
    "}\n",
    "// Main functions end\n",
    "\n",
    "// Macros tools\n",
    "macro \"Adipocytes Tools Help (f1) Action Tool - C98aD00D01D02D03D04D05D06D07D08D09D0aD4fDd0De0Df8Df9CfffD1dD29D2eD34D49D51D56D6cD85D8bD9aDa1Dc6DdaDe2CddeD14D15D16D17D18D1cD2aD2dD4aD5dD5eD62D65D66D67D68D72D75D76D77D82D83D84D8aD92D93D94D98D99Da2Da3Da7Da8Da9Db1Db7Db8Db9Dc7Dc8Dc9CfffD0bD0cD0dD0eD0fD10D1eD1fD20D24D25D26D27D28D2fD30D35D36D37D38D39D3fD40D45D46D47D48D50D57D58D5fD60D61D6dD6eD6fD70D71D7cD7dD7eD7fD80D81D8cD8dD8eD8fD90D91D95D96D9bD9cD9dD9eD9fDa0Da5Da6DaaDabDacDadDaeDafDb0Db5Db6DbaDbbDbcDbdDbeDbfDc0DcaDcbDccDcdDceDcfDdbDdcDddDdeDdfDebDecDedDeeDefDf0Df1Df2Df3Df4Df5Df6Df7DfaDfbDfcDfdDfeDffCccdD13D19D21D22D31D33D3eD42D43D4eD52D5aD5cD63D6bD73D78D7aD87Db3Dc1Dc4Dd1Dd2Dd3Dd5Dd6Dd9De4De5De6CeeeD23D3aD41D44D55D59D7bD86D97Da4Db4Dc5De1De3DeaCcbcD1aD1bD2bD2cD32D3bD4bD4dD53D54D5bD64D69D6aD74D79D88D89Db2Dc2Dc3Dd4Dd7Dd8De7De9CaabD11D12D3cD3dD4cDe8\"{\n",
    "\trun('URL...', 'url='+helpURL);\n",
    "}\n",
    "\n",
    "macro \"Preprocessing Clear Background (f2) Action Tool - C000T4b12p\" {\n",
    "\tpreProcessImage();\n",
    "}\n",
    "\n",
    "macro \"Simple Adipocytes Segmentation (f3) Action Tool- C000T4b12s\" {\n",
    "\tsimpleSegmentation();\n",
    "}\n",
    "\n",
    "macro \"Watershed Adipocytes Segmentation (f4) Action Tool- C000T4b12w\" {\n",
    "\twatershedAdipocytesSegmentation();\n",
    "}\n",
    "\n",
    "macro \"Large Magnification Adipocytes Segmentation (f5) Action Tool- C000T4b12l\" {\n",
    "\tlargeMagnificationSegmentation();\n",
    "}\n",
    "\n",
    "// Extras menu\n",
    "   var extraCmds = newMenu(\"Extras Menu Tool\",\n",
    "      newArray(\"Download example image\",\"Open help page\"));\n",
    "      \n",
    "   macro \"Extras Menu Tool - C000T4b12e\" {\n",
    "       cmd = getArgument();\n",
    "       if (cmd==\"Download example image\")\n",
    "           open(\"http://dev.mri.cnrs.fr/attachments/190/0178_x5_3.tif\");\n",
    "       else if (cmd==\"Open help page\")\n",
    "           run('URL...', 'url='+helpURL);\n",
    "   }\n",
    "\n",
    "// keyboard shortcuts\n",
    "macro 'Adipocytes Tools Help [f1]' {\n",
    "\t run('URL...', 'url='+helpURL);\n",
    "}\n",
    "\n",
    "macro 'Preprocessing Clear Background [f2]' {\n",
    "\tpreProcessImage();\n",
    "}\n",
    "\n",
    "macro 'Simple Adipocytes Segmentation [f3]' {\n",
    "\tsimpleSegmentation();\n",
    "}\n",
    "\n",
    "macro 'Watershed Adipocytes Segmentation [f4]' {\n",
    "\twatershedAdipocytesSegmentation();\n",
    "}\n",
    "\n",
    "macro 'Large Magnification Adipocytes Segmentation [f5]' {\n",
    "\tlargeMagnificationSegmentation();\n",
    "}\n",
    "\n",
    "// Option dialogs\n",
    "macro \"Preprocessing Clear Background (f2) Action Tool Options\" {\n",
    "        Dialog.create(\"Preprocessing Adipocytes Segmentation Options\");\n",
    "        Dialog.addNumber(\"min. size\", preMinSize);\t\n",
    "        Dialog.addNumber(\"max. size\", preMaxSize);\n",
    "        Dialog.addNumber(\"nr. of dilates\", preNumberOfDilates);\n",
    "        Dialog.addChoice(\"thresholding method\", newArray(\"Default\", \"Huang\", \"Intermodes\", \"IsoData\", \"IJ_IsoData\", \"Li\", \"MaxEntropy\", \"Mean\", \"MinError\",  \"Minimum\", \"Moments\",  \"Otsu\", \"Percentile\", \"RenyiEntropy\", \"Shanbhag\", \"Triangle\", \"Yen\"),  preThresholdMethod);\n",
    "        Dialog.addCheckbox(\"remove scale\", preRemoveScale);\n",
    "        Dialog.show();\n",
    "        preMinSize = Dialog.getNumber();\n",
    "        preMaxSize = Dialog.getNumber();\n",
    "        preNumberOfDilates = Dialog.getNumber();\n",
    "        preThresholdMethod = Dialog.getChoice();\n",
    "        preRemoveScale = Dialog.getCheckbox();\n",
    "}\n",
    "\n",
    "macro \"Simple Adipocytes Segmentation (f3) Action Tool Options\" {\n",
    "       Dialog.create(\"Simple Adipocytes Segmentation Options\");\n",
    "       Dialog.addNumber(\"min. size\", simpleMinSize);\t\n",
    "       Dialog.addNumber(\"max. size\", simpleMaxSize);\n",
    "       Dialog.addChoice(\"thresholding method\", newArray(\"Default\", \"Huang\", \"Intermodes\", \"IsoData\", \"IJ_IsoData\", \"Li\", \"MaxEntropy\", \"Mean\", \"MinError\",  \"Minimum\", \"Moments\",  \"Otsu\", \"Percentile\", \"RenyiEntropy\", \"Shanbhag\", \"Triangle\", \"Yen\"),  simpleThresholdMethod);\n",
    "       Dialog.addCheckbox(\"clear background\", simpleClearBackground);\n",
    "       Dialog.addCheckbox(\"find edges\", simpleFindEdges);\n",
    "       Dialog.addCheckbox(\"use binary watershed\", simpleUseBinaryWatershed);\n",
    "       Dialog.addCheckbox(\"remove scale\", simpleRemoveScale);\n",
    "       Dialog.show();\n",
    "       simpleMinSize = Dialog.getNumber();\n",
    "       simpleMaxSize = Dialog.getNumber();\n",
    "       simpleThresholdMethod = Dialog.getChoice();\n",
    "       simpleClearBackground = Dialog.getCheckbox();\n",
    "       simpleFindEdges = Dialog.getCheckbox();\n",
    "       simpleUseBinaryWatershed = Dialog.getCheckbox();\n",
    "       simpleRemoveScale = Dialog.getCheckbox();\n",
    "}\n",
    "\n",
    "macro \"Watershed Adipocytes Segmentation (f4) Action Tool Options\" {\n",
    "        Dialog.create(\"Watershed Adipocytes Segmentation Options\");\n",
    "        Dialog.addNumber(\"min. size\", waterMinSize);\t\n",
    "        Dialog.addNumber(\"max. size\", waterMaxSize);\n",
    "        Dialog.addNumber(\"sigma\", waterSigma);\n",
    "        Dialog.addCheckbox(\"clear background\", waterClearBackground);\n",
    "        Dialog.addCheckbox(\"find edges\", waterFindEdges);\n",
    "        Dialog.addCheckbox(\"remove scale\", waterRemoveScale);\n",
    "        Dialog.show();\n",
    "        waterMinSize = Dialog.getNumber();\n",
    "        waterMaxSize = Dialog.getNumber();\n",
    "        waterSigma = Dialog.getNumber();\n",
    "        waterClearBackground = Dialog.getCheckbox();\n",
    "        waterFindEdges = Dialog.getCheckbox();\n",
    "        waterRemoveScale = Dialog.getCheckbox();\n",
    "}\n",
    "\n",
    "macro \"Large Magnification Adipocytes Segmentation (f5) Action Tool Options\" {\n",
    "        Dialog.create(\"Large Magnification Adipocytes Segmentation Options\");\n",
    "        Dialog.addNumber(\"min. size\", largeMinSize);\t\n",
    "        Dialog.addNumber(\"max. size\", largeMaxSize);\n",
    "        Dialog.addNumber(\"nr. of erodes\", largeNumberOfErodes);\n",
    "        Dialog.addCheckbox(\"remove scale\", largeRemoveScale);\n",
    "        Dialog.show();\n",
    "        largeMinSize = Dialog.getNumber();\n",
    "        largeMaxSize = Dialog.getNumber();\n",
    "        largeNumberOfErodes = Dialog.getNumber();\n",
    "        largeRemoveScale = Dialog.getCheckbox();\n",
    "}\n",
    "\n",
    "// helper functions\n",
    "function storeColors() {\n",
    "       oldForeground = getValue(\"color.foreground\");\n",
    "       oldBackground = getValue(\"color.background\");\n",
    "}\n",
    "\n",
    "function setWhiteOnBlack() {\n",
    "    setForegroundColor(255,255,255);\n",
    "    setBackgroundColor(0,0,0);\n",
    "}\n",
    "\n",
    "function setBlackOnWhite() {\n",
    "    setForegroundColor(0,0,0);\n",
    "    setBackgroundColor(255,255,255);\n",
    "}\n",
    "\n",
    "function resetColors() {\n",
    "    setForegroundColor((oldForeground>>16)&0xff, (oldForeground>>8)&0xff, oldForeground&0xff);\n",
    "    setBackgroundColor((oldBackground>>16)&0xff, (oldBackground>>8)&0xff, oldBackground&0xff);\n",
    "}\n"
   ]
  },
  {
   "cell_type": "markdown",
   "metadata": {},
   "source": [
    "# Installation in FIJI/ImageJ\n",
    "\n",
    "To install the tools, drag the link [Adipocyte_Tools.ijm](https://raw.githubusercontent.com/MontpellierRessourcesImagerie/imagej_macros_and_scripts/master/volker/toolsets/adipocyte_tools/Adipocyte_Tools.ijm) to the ImageJ launcher window and save it under _macros/toolsets_ in the ImageJ installation. In order to use the greyscale-watershed method (the **w**-button) you must have the [Watershed Algorithm](http://rsbweb.nih.gov/ij/plugins/watershed.html) installed. \n",
    "\n",
    "Select the \"MRI Adipocytes Tools\" toolset from the ``>>`` button of the ImageJ launcher.\n",
    "\n",
    "![toolset](http://dev.mri.cnrs.fr/attachments/download/1691/toolset.png)\n",
    "\n",
    "* the first button (the one with the image) opens the help page\n",
    "* the p button runs a preprocessing step that clears the background of the image\n",
    "* the s button runs a simple segmentation algorithm on the current image\n",
    "* the w button runs a greyscale-watershed segmentation on the current image\n",
    "* the l button runs a segmentation for large-magnification images on the current image"
   ]
  },
  {
   "cell_type": "markdown",
   "metadata": {},
   "source": [
    "# Preprocessing"
   ]
  },
  {
   "cell_type": "markdown",
   "metadata": {},
   "source": [
    "In the preprocessing step the background, which is free of cells is removed. The preprocessing is used in the first two segmentation methods, when \"watershed\" is used. Without it, the watershed-algorithm would split the background into objects as well.\n",
    "\n",
    "```python\n",
    "    run(\"Duplicate...\", \" \");\n",
    "    run(\"Find Edges\");\n",
    "    run(\"8-bit\");\n",
    "    run(\"Smooth\");\n",
    "    setAutoThreshold(thresholdMethod);\n",
    "    run(\"Analyze Particles...\", \"size=\"+minSize+\"-\"+maxSize+\" circularity=0.00-1.00 show=Masks exclude in_situ\");\n",
    "    run(\"Create Selection\");\n",
    "    run(\"Enlarge...\", \"enlarge=\" + numberOfDilates + \" pixel\");\n",
    "    roiManager(\"Add\");\n",
    "    close();\n",
    "    roiManager(\"select\", 0);\n",
    "    run(\"Clear Outside\");\n",
    "```\n",
    "\n"
   ]
  },
  {
   "cell_type": "code",
   "execution_count": 7,
   "metadata": {
    "jupyter": {
     "source_hidden": true
    }
   },
   "outputs": [
    {
     "data": {
      "application/vnd.jupyter.widget-view+json": {
       "model_id": "b8b7e31d-8aee-41e8-83ee-fc26fe984be9",
       "version_major": 2,
       "version_minor": 0
      },
      "method": "display_data"
     },
     "metadata": {},
     "output_type": "display_data"
    },
    {
     "data": {
      "text/plain": [
       "null"
      ]
     },
     "execution_count": 4,
     "metadata": {},
     "output_type": "execute_result"
    }
   ],
   "source": [
    "%%groovy\n",
    "import com.twosigma.beakerx.widget.*\n",
    "\n",
    "void runPreprocessing(minSize, maxSize, nrOfDilates, thresholdingMethod, removeScale) {\n",
    "    macro = new File('Adipocyte_Tools.ijm').text\n",
    "    macro = macro.replaceFirst('var preMinSize = 80;', 'var preMinSize = '+minSize+';')\n",
    "    macro = macro.replaceFirst('var preMaxSize = 20000;', 'var preMaxSize = '+maxSize+';')\n",
    "    macro = macro.replaceFirst('var preNumberOfDilates = 10;', 'var preNumberOfDilates = '+nrOfDilates+';')\n",
    "    macro = macro.replaceFirst('var preThresholdMethod = \"Percentile\";', 'var preThresholdMethod = \"'+thresholdingMethod+'\";')\n",
    "    macro = macro.replaceFirst('var preRemoveScale = true;', 'var preRemoveScale = '+removeScale+';')\n",
    "    \n",
    "    macro = macro.replaceFirst('// run a function here:', 'preProcessImage();\\nsave(\"adipos_background_removed.tif\");')\n",
    "    \n",
    "    ij.IJ.open('http://dev.mri.cnrs.fr/attachments/190/0178_x5_3.tif')\n",
    "    ij.IJ.runMacro(macro)\n",
    "    ij.IJ.run(\"Close All\", \"\")\n",
    "}\n",
    "    \n",
    "PF = new EasyForm(\"Preprocessing\")\n",
    "\n",
    "PF_MIN_SIZE = new IntText()\n",
    "PF_MIN_SIZE.value = 80\n",
    "PF_MIN_SIZE.description=\"min. size:\"\n",
    "\n",
    "PF_MAX_SIZE = new IntText()\n",
    "PF_MAX_SIZE.value = 20000\n",
    "PF_MAX_SIZE.description=\"max. size:\"\n",
    "\n",
    "PF_NR_OF_DILATES = new IntText()\n",
    "PF_NR_OF_DILATES.value = 10\n",
    "PF_NR_OF_DILATES.description = 'nr. of dilates:'\n",
    "\n",
    "THRESHOLDING_METHODS = ['Default', 'Huang', 'Intermodes', 'IsoData', 'IJ_IsoData', 'Li', 'MaxEntropy', 'Mean', 'MinError', 'Minimum', 'Moments', 'Otsu', 'Percentile', 'RenyiEntropy', 'Shanbhag', 'Triangle', 'Yen']\n",
    "PF.addWidget(\"min. size\", PF_MIN_SIZE)\n",
    "PF.addWidget(\"max. size\", PF_MAX_SIZE)\n",
    "PF.addWidget(\"nr. of dilates\", PF_NR_OF_DILATES)\n",
    "PF.addComboBox(\"thresholding method:\", THRESHOLDING_METHODS)\n",
    "PF.addCheckBox(\"remove scale\")\n",
    "PF_run_button = PF.addButton(\"run\")\n",
    "PF_run_button.actionPerformed = {\n",
    "    runPreprocessing(PF_MIN_SIZE.value, \n",
    "                     PF_MAX_SIZE.value, \n",
    "                     PF_NR_OF_DILATES.value, \n",
    "                     PF['thresholding method:'],\n",
    "                     PF['remove scale']\n",
    "    )\n",
    "}\n",
    "PF['thresholding method:'] = 'Percentile'\n",
    "PF['remove scale'] = 'true'\n",
    "display(PF)"
   ]
  },
  {
   "cell_type": "code",
   "execution_count": 15,
   "metadata": {},
   "outputs": [
    {
     "data": {
      "application/vnd.jupyter.widget-view+json": {
       "model_id": "22932a43697147b9bf10fa217049fa11",
       "version_major": 2,
       "version_minor": 0
      },
      "method": "display_data"
     },
     "metadata": {},
     "output_type": "display_data"
    }
   ],
   "source": [
    "import tifffile as tiff\n",
    "image = tiff.imread('adipos_background_removed.tif')\n",
    "imshow(image, width=500, height=300)"
   ]
  },
  {
   "cell_type": "code",
   "execution_count": 1,
   "metadata": {
    "init_cell": true,
    "jupyter": {
     "source_hidden": true
    }
   },
   "outputs": [
    {
     "name": "stdout",
     "output_type": "stream",
     "text": [
      "Groovy started successfully\n",
      "\n",
      "Added new repo: scijava.public\n"
     ]
    },
    {
     "data": {
      "application/vnd.jupyter.widget-view+json": {
       "model_id": "",
       "version_major": 2,
       "version_minor": 0
      },
      "method": "display_data"
     },
     "metadata": {},
     "output_type": "display_data"
    },
    {
     "data": {
      "application/vnd.jupyter.widget-view+json": {
       "model_id": "599a7fda-12ac-4b55-ad8b-b0fd946e0670",
       "version_major": 2,
       "version_minor": 0
      },
      "method": "display_data"
     },
     "metadata": {},
     "output_type": "display_data"
    }
   ],
   "source": [
    "%%groovy\n",
    "%classpath config resolver scijava.public https://maven.scijava.org/content/groups/public\n",
    "%%classpath add mvn\n",
    "net.imagej imagej-legacy 0.35.0\n",
    "net.imagej imagej 2.0.0-rc-71"
   ]
  },
  {
   "cell_type": "code",
   "execution_count": 2,
   "metadata": {
    "init_cell": true,
    "jupyter": {
     "source_hidden": true
    }
   },
   "outputs": [],
   "source": [
    "from beakerx import *\n",
    "\n",
    "def read_image_from_url(url):\n",
    "    import requests\n",
    "    import tifffile as tiff\n",
    "    import io\n",
    "    resp = requests.get(url)\n",
    "    return tiff.imread(io.BytesIO(resp.content))\n",
    "\n",
    "def imshow(image, width=400, height=300):\n",
    "    import IPython\n",
    "    import ipywidgets as widgets\n",
    "    \n",
    "    displayImage = get_display_image(image, width=width, height=height)\n",
    "\n",
    "    SID_image = widgets.Image(\n",
    "        value=displayImage.data.tobytes(),\n",
    "        format='jpg',\n",
    "        width=width,\n",
    "        height=height,\n",
    "    )\n",
    "    SID_slider = widgets.IntSlider(\n",
    "        min=100,\n",
    "        max=1900,\n",
    "        continuous_update=False,\n",
    "        value = width,\n",
    "        description = 'width',\n",
    "        layout=Layout(width=str(width)+'px')\n",
    "    )\n",
    "\n",
    "    SID_link = widgets.jslink((SID_image, 'width'), (SID_slider, 'value'))    \n",
    "\n",
    "    SID_form = EasyForm(\"Image display\")\n",
    "    SID_form.addWidget('FloatSlider', SID_slider)\n",
    "    SID_form.addWidget('ImageDisplay', SID_image)\n",
    "    display(SID_form)\n",
    "    \n",
    "def get_display_image(img, width=800, height=800):\n",
    "    import cv2\n",
    "    import IPython\n",
    "    _,ret = cv2.imencode('.jpg', img) \n",
    "    i = IPython.display.Image(data=ret, width=width, height=height)\n",
    "    return i\n"
   ]
  },
  {
   "cell_type": "code",
   "execution_count": 3,
   "metadata": {
    "init_cell": true,
    "jupyter": {
     "source_hidden": true
    }
   },
   "outputs": [
    {
     "data": {
      "text/plain": [
       "ImageJ v2.0.0-rc-71/1.52i is ready to go."
      ]
     },
     "execution_count": 2,
     "metadata": {},
     "output_type": "execute_result"
    }
   ],
   "source": [
    "%%groovy\n",
    "ij = new net.imagej.ImageJ()\n",
    "\"ImageJ v${ij.getVersion()} is ready to go.\""
   ]
  }
 ],
 "metadata": {
  "celltoolbar": "Initialization Cell",
  "kernelspec": {
   "display_name": "Python 3",
   "language": "python",
   "name": "python3"
  },
  "language_info": {
   "codemirror_mode": {
    "name": "ipython",
    "version": 3
   },
   "file_extension": ".py",
   "mimetype": "text/x-python",
   "name": "python",
   "nbconvert_exporter": "python",
   "pygments_lexer": "ipython3",
   "version": "3.7.6"
  },
  "toc": {
   "base_numbering": 1,
   "nav_menu": {},
   "number_sections": false,
   "sideBar": false,
   "skip_h1_title": false,
   "title_cell": "Table of Contents",
   "title_sidebar": "Contents",
   "toc_cell": false,
   "toc_position": {},
   "toc_section_display": false,
   "toc_window_display": false
  }
 },
 "nbformat": 4,
 "nbformat_minor": 4
}
